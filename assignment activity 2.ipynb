{
 "cells": [
  {
   "cell_type": "code",
   "execution_count": 2,
   "id": "e56093da",
   "metadata": {},
   "outputs": [],
   "source": [
    "# import the Pandas and Numpy libraries\n",
    "import pandas as pd\n",
    "import numpy as np"
   ]
  },
  {
   "cell_type": "code",
   "execution_count": 3,
   "id": "6294d6f9",
   "metadata": {
    "scrolled": true
   },
   "outputs": [
    {
     "name": "stdout",
     "output_type": "stream",
     "text": [
      "Index(['sub_icb_location_code', 'sub_icb_location_ons_code',\n",
      "       'sub_icb_location_name', 'icb_ons_code', 'region_ons_code',\n",
      "       'appointment_date', 'actual_duration', 'count_of_appointments'],\n",
      "      dtype='object')\n"
     ]
    }
   ],
   "source": [
    "# import the the actual_duration data set\n",
    "ad = pd.read_csv('actual_duration.csv')\n",
    "\n",
    "# sense-check the data by printing the ad dataframes column headers\n",
    "print(ad.columns)"
   ]
  },
  {
   "cell_type": "code",
   "execution_count": 4,
   "id": "e5702138",
   "metadata": {},
   "outputs": [
    {
     "name": "stdout",
     "output_type": "stream",
     "text": [
      "Index(['icb_ons_code', 'appointment_month', 'appointment_status', 'hcp_type',\n",
      "       'appointment_mode', 'time_between_book_and_appointment',\n",
      "       'count_of_appointments'],\n",
      "      dtype='object')\n"
     ]
    }
   ],
   "source": [
    "# import the the appointments_regional data set\n",
    "ar = pd.read_csv('appointments_regional.csv')\n",
    "\n",
    "# sense-check the data by printing the ad dataframes column headers\n",
    "print(ar.columns)"
   ]
  },
  {
   "cell_type": "code",
   "execution_count": 5,
   "id": "1e0bc533",
   "metadata": {},
   "outputs": [],
   "source": [
    "# import the the national_categories data set \n",
    "nc = pd.read_excel('national_categories.xlsx')\n",
    "\n"
   ]
  },
  {
   "cell_type": "code",
   "execution_count": 6,
   "id": "8d64fd80",
   "metadata": {},
   "outputs": [
    {
     "name": "stdout",
     "output_type": "stream",
     "text": [
      "Index(['appointment_date', 'icb_ons_code', 'sub_icb_location_name',\n",
      "       'service_setting', 'context_type', 'national_category',\n",
      "       'count_of_appointments', 'appointment_month'],\n",
      "      dtype='object')\n"
     ]
    }
   ],
   "source": [
    "# sense-check the data by printing the ad dataframes column headers\n",
    "print(nc.columns)"
   ]
  },
  {
   "cell_type": "code",
   "execution_count": 7,
   "id": "e1cd3830",
   "metadata": {},
   "outputs": [
    {
     "data": {
      "text/html": [
       "<div>\n",
       "<style scoped>\n",
       "    .dataframe tbody tr th:only-of-type {\n",
       "        vertical-align: middle;\n",
       "    }\n",
       "\n",
       "    .dataframe tbody tr th {\n",
       "        vertical-align: top;\n",
       "    }\n",
       "\n",
       "    .dataframe thead th {\n",
       "        text-align: right;\n",
       "    }\n",
       "</style>\n",
       "<table border=\"1\" class=\"dataframe\">\n",
       "  <thead>\n",
       "    <tr style=\"text-align: right;\">\n",
       "      <th></th>\n",
       "      <th>count_of_appointments</th>\n",
       "    </tr>\n",
       "  </thead>\n",
       "  <tbody>\n",
       "    <tr>\n",
       "      <th>count</th>\n",
       "      <td>137793.000000</td>\n",
       "    </tr>\n",
       "    <tr>\n",
       "      <th>mean</th>\n",
       "      <td>1219.080011</td>\n",
       "    </tr>\n",
       "    <tr>\n",
       "      <th>std</th>\n",
       "      <td>1546.902956</td>\n",
       "    </tr>\n",
       "    <tr>\n",
       "      <th>min</th>\n",
       "      <td>1.000000</td>\n",
       "    </tr>\n",
       "    <tr>\n",
       "      <th>25%</th>\n",
       "      <td>194.000000</td>\n",
       "    </tr>\n",
       "    <tr>\n",
       "      <th>50%</th>\n",
       "      <td>696.000000</td>\n",
       "    </tr>\n",
       "    <tr>\n",
       "      <th>75%</th>\n",
       "      <td>1621.000000</td>\n",
       "    </tr>\n",
       "    <tr>\n",
       "      <th>max</th>\n",
       "      <td>15400.000000</td>\n",
       "    </tr>\n",
       "  </tbody>\n",
       "</table>\n",
       "</div>"
      ],
      "text/plain": [
       "       count_of_appointments\n",
       "count          137793.000000\n",
       "mean             1219.080011\n",
       "std              1546.902956\n",
       "min                 1.000000\n",
       "25%               194.000000\n",
       "50%               696.000000\n",
       "75%              1621.000000\n",
       "max             15400.000000"
      ]
     },
     "execution_count": 7,
     "metadata": {},
     "output_type": "execute_result"
    }
   ],
   "source": [
    "# determine the descriptive statistics for the dataframes\n",
    "ad.describe()"
   ]
  },
  {
   "cell_type": "code",
   "execution_count": 8,
   "id": "70b44b69",
   "metadata": {},
   "outputs": [
    {
     "name": "stdout",
     "output_type": "stream",
     "text": [
      "<class 'pandas.core.frame.DataFrame'>\n",
      "RangeIndex: 137793 entries, 0 to 137792\n",
      "Data columns (total 8 columns):\n",
      " #   Column                     Non-Null Count   Dtype \n",
      "---  ------                     --------------   ----- \n",
      " 0   sub_icb_location_code      137793 non-null  object\n",
      " 1   sub_icb_location_ons_code  137793 non-null  object\n",
      " 2   sub_icb_location_name      137793 non-null  object\n",
      " 3   icb_ons_code               137793 non-null  object\n",
      " 4   region_ons_code            137793 non-null  object\n",
      " 5   appointment_date           137793 non-null  object\n",
      " 6   actual_duration            137793 non-null  object\n",
      " 7   count_of_appointments      137793 non-null  int64 \n",
      "dtypes: int64(1), object(7)\n",
      "memory usage: 8.4+ MB\n",
      "None\n",
      "<class 'pandas.core.frame.DataFrame'>\n",
      "RangeIndex: 596821 entries, 0 to 596820\n",
      "Data columns (total 7 columns):\n",
      " #   Column                             Non-Null Count   Dtype \n",
      "---  ------                             --------------   ----- \n",
      " 0   icb_ons_code                       596821 non-null  object\n",
      " 1   appointment_month                  596821 non-null  object\n",
      " 2   appointment_status                 596821 non-null  object\n",
      " 3   hcp_type                           596821 non-null  object\n",
      " 4   appointment_mode                   596821 non-null  object\n",
      " 5   time_between_book_and_appointment  596821 non-null  object\n",
      " 6   count_of_appointments              596821 non-null  int64 \n",
      "dtypes: int64(1), object(6)\n",
      "memory usage: 31.9+ MB\n",
      "None\n",
      "<class 'pandas.core.frame.DataFrame'>\n",
      "RangeIndex: 817394 entries, 0 to 817393\n",
      "Data columns (total 8 columns):\n",
      " #   Column                 Non-Null Count   Dtype         \n",
      "---  ------                 --------------   -----         \n",
      " 0   appointment_date       817394 non-null  datetime64[ns]\n",
      " 1   icb_ons_code           817394 non-null  object        \n",
      " 2   sub_icb_location_name  817394 non-null  object        \n",
      " 3   service_setting        817394 non-null  object        \n",
      " 4   context_type           817394 non-null  object        \n",
      " 5   national_category      817394 non-null  object        \n",
      " 6   count_of_appointments  817394 non-null  int64         \n",
      " 7   appointment_month      817394 non-null  object        \n",
      "dtypes: datetime64[ns](1), int64(1), object(6)\n",
      "memory usage: 49.9+ MB\n",
      "None\n"
     ]
    }
   ],
   "source": [
    "# determine the metadata for the dataframes\n",
    "print(ad.info())\n",
    "print(ar.info())\n",
    "print(nc.info())"
   ]
  },
  {
   "cell_type": "markdown",
   "id": "b3e8048e",
   "metadata": {},
   "source": []
  },
  {
   "cell_type": "code",
   "execution_count": 20,
   "id": "15d7c02d",
   "metadata": {},
   "outputs": [
    {
     "name": "stdout",
     "output_type": "stream",
     "text": [
      "106\n"
     ]
    }
   ],
   "source": [
    "# check the number of unique locations was correct\n",
    "count_of_locations = nc['sub_icb_location_name'].nunique()\n",
    "\n",
    "print(count_of_locations)"
   ]
  },
  {
   "cell_type": "code",
   "execution_count": 22,
   "id": "44c83a44",
   "metadata": {
    "scrolled": true
   },
   "outputs": [
    {
     "name": "stdout",
     "output_type": "stream",
     "text": [
      "106\n"
     ]
    }
   ],
   "source": [
    "# calculate the number of unique locations the dataset\n",
    "locations_check = ad['sub_icb_location_code'].nunique()\n",
    "\n",
    "print(locations_check)"
   ]
  },
  {
   "cell_type": "markdown",
   "id": "6c0c2b47",
   "metadata": {},
   "source": []
  },
  {
   "cell_type": "code",
   "execution_count": 42,
   "id": "c7768cd2",
   "metadata": {},
   "outputs": [],
   "source": [
    "# calculate the five locations with the highest number of records"
   ]
  },
  {
   "cell_type": "code",
   "execution_count": 33,
   "id": "9ab69f76",
   "metadata": {},
   "outputs": [
    {
     "data": {
      "text/html": [
       "<div>\n",
       "<style scoped>\n",
       "    .dataframe tbody tr th:only-of-type {\n",
       "        vertical-align: middle;\n",
       "    }\n",
       "\n",
       "    .dataframe tbody tr th {\n",
       "        vertical-align: top;\n",
       "    }\n",
       "\n",
       "    .dataframe thead th {\n",
       "        text-align: right;\n",
       "    }\n",
       "</style>\n",
       "<table border=\"1\" class=\"dataframe\">\n",
       "  <thead>\n",
       "    <tr style=\"text-align: right;\">\n",
       "      <th></th>\n",
       "      <th>sub_icb_location_name</th>\n",
       "      <th>count</th>\n",
       "    </tr>\n",
       "  </thead>\n",
       "  <tbody>\n",
       "    <tr>\n",
       "      <th>76</th>\n",
       "      <td>NHS North West London ICB - W2U3Z</td>\n",
       "      <td>13007</td>\n",
       "    </tr>\n",
       "    <tr>\n",
       "      <th>47</th>\n",
       "      <td>NHS Kent and Medway ICB - 91Q</td>\n",
       "      <td>12637</td>\n",
       "    </tr>\n",
       "    <tr>\n",
       "      <th>21</th>\n",
       "      <td>NHS Devon ICB - 15N</td>\n",
       "      <td>12526</td>\n",
       "    </tr>\n",
       "    <tr>\n",
       "      <th>36</th>\n",
       "      <td>NHS Hampshire and Isle Of Wight ICB - D9Y0V</td>\n",
       "      <td>12171</td>\n",
       "    </tr>\n",
       "    <tr>\n",
       "      <th>67</th>\n",
       "      <td>NHS North East London ICB - A3A8R</td>\n",
       "      <td>11837</td>\n",
       "    </tr>\n",
       "  </tbody>\n",
       "</table>\n",
       "</div>"
      ],
      "text/plain": [
       "                          sub_icb_location_name  count\n",
       "76            NHS North West London ICB - W2U3Z  13007\n",
       "47                NHS Kent and Medway ICB - 91Q  12637\n",
       "21                          NHS Devon ICB - 15N  12526\n",
       "36  NHS Hampshire and Isle Of Wight ICB - D9Y0V  12171\n",
       "67            NHS North East London ICB - A3A8R  11837"
      ]
     },
     "execution_count": 33,
     "metadata": {},
     "output_type": "execute_result"
    }
   ],
   "source": [
    "# group the nc dataframe by location\n",
    "locations_grouped = nc.groupby('sub_icb_location_name')\n",
    "\n",
    "# create an empty list to store location count\n",
    "count_of_records = []\n",
    "\n",
    "# calculate the count of records for each location\n",
    "# add the calculated values to the count of records list\n",
    "for location_name, group_data in locations_grouped:\n",
    "    count = len(group_data.index)\n",
    "    count_of_records.append({\n",
    "        'sub_icb_location_name': location_name, 'count': count\n",
    "    })\n",
    "\n",
    "# create a pandas dataframe with the count of records list\n",
    "count_of_records = pd.DataFrame(count_of_records)\n",
    "\n",
    "# sort the dataframe by the count column in descending order\n",
    "sorted_count_of_records = count_of_records.sort_values(\n",
    "    by='count', ascending=False\n",
    ")\n",
    "\n",
    "sorted_count_of_records.head()"
   ]
  },
  {
   "cell_type": "code",
   "execution_count": null,
   "id": "ac31ea7a",
   "metadata": {},
   "outputs": [],
   "source": []
  },
  {
   "cell_type": "code",
   "execution_count": 11,
   "id": "a2604fe2",
   "metadata": {},
   "outputs": [
    {
     "name": "stdout",
     "output_type": "stream",
     "text": [
      "5\n"
     ]
    }
   ],
   "source": [
    "# calculate the number of service settings\n",
    "# (this matches the number of service settings in the metadata)\n",
    "service_setting_count = nc['service_setting'].nunique()\n",
    "\n",
    "print(service_setting_count)"
   ]
  },
  {
   "cell_type": "code",
   "execution_count": 34,
   "id": "87111f84",
   "metadata": {},
   "outputs": [
    {
     "name": "stdout",
     "output_type": "stream",
     "text": [
      "3\n"
     ]
    }
   ],
   "source": [
    "# calculate the number of context types\n",
    "# (this matches the number of service settings in the metadata)\n",
    "context_type_count = nc['context_type'].nunique()\n",
    "\n",
    "print(context_type_count)"
   ]
  },
  {
   "cell_type": "code",
   "execution_count": 41,
   "id": "d959041b",
   "metadata": {},
   "outputs": [
    {
     "name": "stdout",
     "output_type": "stream",
     "text": [
      "18\n"
     ]
    }
   ],
   "source": [
    "# calculate the number of national categories\n",
    "# (this matches the number of service settings in the metadata)\n",
    "national_category_count = nc['national_category'].nunique()\n",
    "\n",
    "print(national_category_count)"
   ]
  },
  {
   "cell_type": "code",
   "execution_count": 40,
   "id": "538fef42",
   "metadata": {},
   "outputs": [
    {
     "name": "stdout",
     "output_type": "stream",
     "text": [
      "3\n"
     ]
    }
   ],
   "source": [
    "# calculate the number of appointment statuses\n",
    "# (this matches the number of service settings in the metadata)\n",
    "appointment_status_count = ar['appointment_status'].nunique()\n",
    "\n",
    "print(appointment_status_count)"
   ]
  },
  {
   "cell_type": "code",
   "execution_count": null,
   "id": "49b779cd",
   "metadata": {},
   "outputs": [],
   "source": []
  },
  {
   "cell_type": "code",
   "execution_count": null,
   "id": "6a526bec",
   "metadata": {},
   "outputs": [],
   "source": []
  }
 ],
 "metadata": {
  "kernelspec": {
   "display_name": "Python 3 (ipykernel)",
   "language": "python",
   "name": "python3"
  },
  "language_info": {
   "codemirror_mode": {
    "name": "ipython",
    "version": 3
   },
   "file_extension": ".py",
   "mimetype": "text/x-python",
   "name": "python",
   "nbconvert_exporter": "python",
   "pygments_lexer": "ipython3",
   "version": "3.9.7"
  }
 },
 "nbformat": 4,
 "nbformat_minor": 5
}
